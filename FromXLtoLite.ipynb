{
 "cells": [
  {
   "cell_type": "code",
   "execution_count": 1,
   "id": "51439d94",
   "metadata": {},
   "outputs": [
    {
     "name": "stdout",
     "output_type": "stream",
     "text": [
      "Выбран файл: D:/sawellev/Documents/Финансы/Транзакции.xlsx\n"
     ]
    }
   ],
   "source": [
    "import tkinter as tk\n",
    "from tkinter import filedialog\n",
    "\n",
    "# Создаем скрытое главное окно\n",
    "root = tk.Tk()\n",
    "root.withdraw()\n",
    "\n",
    "# Открываем диалог выбора файла\n",
    "file_path = filedialog.askopenfilename(\n",
    "    title=\"Выберите Excel файл\",\n",
    "    filetypes=[(\"Excel files\", \"*.xls?\"), (\"All files\", \"*.*\")]\n",
    ")\n",
    "\n",
    "if file_path:\n",
    "    # df = pd.read_csv(file_path, encoding='utf-8')\n",
    "    # DataFrame df теперь содержит данные из файла\n",
    "    print(f\"Выбран файл: {file_path}\")\n",
    "else:\n",
    "    print(\"Файл не выбран.\")\n",
    "\n",
    "# Закрываем главное окно\n",
    "root.destroy()"
   ]
  },
  {
   "cell_type": "code",
   "execution_count": null,
   "id": "fccab9ea",
   "metadata": {},
   "outputs": [
    {
     "ename": "AttributeError",
     "evalue": "Can only use .dt accessor with datetimelike values",
     "output_type": "error",
     "traceback": [
      "\u001b[31m---------------------------------------------------------------------------\u001b[39m",
      "\u001b[31mAttributeError\u001b[39m                            Traceback (most recent call last)",
      "\u001b[36mCell\u001b[39m\u001b[36m \u001b[39m\u001b[32mIn[2]\u001b[39m\u001b[32m, line 8\u001b[39m\n\u001b[32m      5\u001b[39m df = df[[\u001b[33m'\u001b[39m\u001b[33mПлата\u001b[39m\u001b[33m'\u001b[39m, \u001b[33m'\u001b[39m\u001b[33mДата\u001b[39m\u001b[33m'\u001b[39m, \u001b[33m'\u001b[39m\u001b[33mСумма\u001b[39m\u001b[33m'\u001b[39m, \u001b[33m'\u001b[39m\u001b[33mКатегория2\u001b[39m\u001b[33m'\u001b[39m, \u001b[33m'\u001b[39m\u001b[33mИсточник\u001b[39m\u001b[33m'\u001b[39m]]\n\u001b[32m      6\u001b[39m df.columns=[\u001b[33m'\u001b[39m\u001b[33mpayment\u001b[39m\u001b[33m'\u001b[39m, \u001b[33m'\u001b[39m\u001b[33mdate\u001b[39m\u001b[33m'\u001b[39m, \u001b[33m'\u001b[39m\u001b[33mamount\u001b[39m\u001b[33m'\u001b[39m, \u001b[33m'\u001b[39m\u001b[33mcategory\u001b[39m\u001b[33m'\u001b[39m, \u001b[33m'\u001b[39m\u001b[33msource\u001b[39m\u001b[33m'\u001b[39m]\n\u001b[32m----> \u001b[39m\u001b[32m8\u001b[39m df.date = \u001b[43mdf\u001b[49m\u001b[43m.\u001b[49m\u001b[43mdate\u001b[49m\u001b[43m.\u001b[49m\u001b[43mdt\u001b[49m.floor(\u001b[33m'\u001b[39m\u001b[33mS\u001b[39m\u001b[33m'\u001b[39m)\n\u001b[32m     10\u001b[39m \u001b[38;5;66;03m# df.amount = (\u001b[39;00m\n\u001b[32m     11\u001b[39m \u001b[38;5;66;03m#     df.amount\u001b[39;00m\n\u001b[32m     12\u001b[39m \u001b[38;5;66;03m#     .astype(str)\u001b[39;00m\n\u001b[32m   (...)\u001b[39m\u001b[32m     27\u001b[39m \u001b[38;5;66;03m# df['amount'].map(type).value_counts()\u001b[39;00m\n\u001b[32m     28\u001b[39m \u001b[38;5;66;03m# df['date'].map(type).value_counts()\u001b[39;00m\n\u001b[32m     29\u001b[39m df.loc[(df.date > \u001b[33m'\u001b[39m\u001b[33m2025-09-03\u001b[39m\u001b[33m'\u001b[39m) & (df.date < \u001b[33m'\u001b[39m\u001b[33m2025-09-04\u001b[39m\u001b[33m'\u001b[39m)]\n",
      "\u001b[36mFile \u001b[39m\u001b[32md:\\Workspace\\PythonWorks\\.venv\\Lib\\site-packages\\pandas\\core\\generic.py:6318\u001b[39m, in \u001b[36mNDFrame.__getattr__\u001b[39m\u001b[34m(self, name)\u001b[39m\n\u001b[32m   6311\u001b[39m \u001b[38;5;28;01mif\u001b[39;00m (\n\u001b[32m   6312\u001b[39m     name \u001b[38;5;129;01mnot\u001b[39;00m \u001b[38;5;129;01min\u001b[39;00m \u001b[38;5;28mself\u001b[39m._internal_names_set\n\u001b[32m   6313\u001b[39m     \u001b[38;5;129;01mand\u001b[39;00m name \u001b[38;5;129;01mnot\u001b[39;00m \u001b[38;5;129;01min\u001b[39;00m \u001b[38;5;28mself\u001b[39m._metadata\n\u001b[32m   6314\u001b[39m     \u001b[38;5;129;01mand\u001b[39;00m name \u001b[38;5;129;01mnot\u001b[39;00m \u001b[38;5;129;01min\u001b[39;00m \u001b[38;5;28mself\u001b[39m._accessors\n\u001b[32m   6315\u001b[39m     \u001b[38;5;129;01mand\u001b[39;00m \u001b[38;5;28mself\u001b[39m._info_axis._can_hold_identifiers_and_holds_name(name)\n\u001b[32m   6316\u001b[39m ):\n\u001b[32m   6317\u001b[39m     \u001b[38;5;28;01mreturn\u001b[39;00m \u001b[38;5;28mself\u001b[39m[name]\n\u001b[32m-> \u001b[39m\u001b[32m6318\u001b[39m \u001b[38;5;28;01mreturn\u001b[39;00m \u001b[38;5;28;43mobject\u001b[39;49m\u001b[43m.\u001b[49m\u001b[34;43m__getattribute__\u001b[39;49m\u001b[43m(\u001b[49m\u001b[38;5;28;43mself\u001b[39;49m\u001b[43m,\u001b[49m\u001b[43m \u001b[49m\u001b[43mname\u001b[49m\u001b[43m)\u001b[49m\n",
      "\u001b[36mFile \u001b[39m\u001b[32md:\\Workspace\\PythonWorks\\.venv\\Lib\\site-packages\\pandas\\core\\accessor.py:224\u001b[39m, in \u001b[36mCachedAccessor.__get__\u001b[39m\u001b[34m(self, obj, cls)\u001b[39m\n\u001b[32m    221\u001b[39m \u001b[38;5;28;01mif\u001b[39;00m obj \u001b[38;5;129;01mis\u001b[39;00m \u001b[38;5;28;01mNone\u001b[39;00m:\n\u001b[32m    222\u001b[39m     \u001b[38;5;66;03m# we're accessing the attribute of the class, i.e., Dataset.geo\u001b[39;00m\n\u001b[32m    223\u001b[39m     \u001b[38;5;28;01mreturn\u001b[39;00m \u001b[38;5;28mself\u001b[39m._accessor\n\u001b[32m--> \u001b[39m\u001b[32m224\u001b[39m accessor_obj = \u001b[38;5;28;43mself\u001b[39;49m\u001b[43m.\u001b[49m\u001b[43m_accessor\u001b[49m\u001b[43m(\u001b[49m\u001b[43mobj\u001b[49m\u001b[43m)\u001b[49m\n\u001b[32m    225\u001b[39m \u001b[38;5;66;03m# Replace the property with the accessor object. Inspired by:\u001b[39;00m\n\u001b[32m    226\u001b[39m \u001b[38;5;66;03m# https://www.pydanny.com/cached-property.html\u001b[39;00m\n\u001b[32m    227\u001b[39m \u001b[38;5;66;03m# We need to use object.__setattr__ because we overwrite __setattr__ on\u001b[39;00m\n\u001b[32m    228\u001b[39m \u001b[38;5;66;03m# NDFrame\u001b[39;00m\n\u001b[32m    229\u001b[39m \u001b[38;5;28mobject\u001b[39m.\u001b[34m__setattr__\u001b[39m(obj, \u001b[38;5;28mself\u001b[39m._name, accessor_obj)\n",
      "\u001b[36mFile \u001b[39m\u001b[32md:\\Workspace\\PythonWorks\\.venv\\Lib\\site-packages\\pandas\\core\\indexes\\accessors.py:643\u001b[39m, in \u001b[36mCombinedDatetimelikeProperties.__new__\u001b[39m\u001b[34m(cls, data)\u001b[39m\n\u001b[32m    640\u001b[39m \u001b[38;5;28;01melif\u001b[39;00m \u001b[38;5;28misinstance\u001b[39m(data.dtype, PeriodDtype):\n\u001b[32m    641\u001b[39m     \u001b[38;5;28;01mreturn\u001b[39;00m PeriodProperties(data, orig)\n\u001b[32m--> \u001b[39m\u001b[32m643\u001b[39m \u001b[38;5;28;01mraise\u001b[39;00m \u001b[38;5;167;01mAttributeError\u001b[39;00m(\u001b[33m\"\u001b[39m\u001b[33mCan only use .dt accessor with datetimelike values\u001b[39m\u001b[33m\"\u001b[39m)\n",
      "\u001b[31mAttributeError\u001b[39m: Can only use .dt accessor with datetimelike values"
     ]
    }
   ],
   "source": [
    "import pandas as pd\n",
    "\n",
    "df = pd.read_excel(file_path, sheet_name=\"Сборная\")\n",
    "\n",
    "df = df[['Плата', 'Дата', 'Сумма', 'Категория2', 'Источник']]\n",
    "df.columns=['payment', 'date', 'amount', 'category', 'source']\n",
    "\n",
    "df.date = df.date.dt.floor('s')\n",
    "\n",
    "# df.amount = (\n",
    "#     df.amount\n",
    "#     .astype(str)\n",
    "#     .str.replace('\\s+', '', regex=True)\n",
    "#     .str.replace(',', '.')\n",
    "#     .astype(float)\n",
    "# )\n",
    "\n",
    "# df.amount = df.amount.str.replace('\\s+', '', regex=True)\n",
    "# df.amount = df.amount.str.replace(',', '.', regex=False)\n",
    "# df.amount = df.amount.astype(str)\n",
    "# df.amount = df.amount.astype(float)\n",
    "\n",
    "# df.iloc[1171]\n",
    "# df.amount\n",
    "# df.info()\n",
    "# df.category.unique()\n",
    "# df['amount'].map(type).value_counts()\n",
    "# df['date'].map(type).value_counts()\n",
    "df.loc[(df.date > '2025-09-03') & (df.date < '2025-09-04')]\n"
   ]
  },
  {
   "cell_type": "code",
   "execution_count": 63,
   "id": "4e51b66d",
   "metadata": {},
   "outputs": [],
   "source": [
    "import sqlite3\n",
    "\n",
    "# Подключение к базе данных Sqlite\n",
    "conn = sqlite3.connect('./data/finance.lite')\n",
    "\n",
    "# максимальная дата в таблице\n",
    "v_max_date = pd.read_sql('SELECT MAX(date) FROM trans_all', conn).iloc[0, 0]\n",
    "\n",
    "# запись данных в таблицу finance базы данных\n",
    "# df.to_sql('trans_all', conn, if_exists='replace', index=False)\n",
    "\n",
    "# добавление записей в существующую таблицу trans_all базы данных finance.lite\n",
    "(df\n",
    "    .loc[df.date > v_max_date]\n",
    "    .to_sql('trans_all', conn, if_exists='append', index=False)\n",
    ")\n",
    "\n",
    "# закрытие соединения с базой данных\n",
    "conn.close()\n"
   ]
  }
 ],
 "metadata": {
  "kernelspec": {
   "display_name": ".venv (3.11.9)",
   "language": "python",
   "name": "python3"
  },
  "language_info": {
   "codemirror_mode": {
    "name": "ipython",
    "version": 3
   },
   "file_extension": ".py",
   "mimetype": "text/x-python",
   "name": "python",
   "nbconvert_exporter": "python",
   "pygments_lexer": "ipython3",
   "version": "3.11.9"
  }
 },
 "nbformat": 4,
 "nbformat_minor": 5
}
