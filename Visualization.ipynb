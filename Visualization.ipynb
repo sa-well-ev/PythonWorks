{
 "cells": [
  {
   "cell_type": "code",
   "execution_count": null,
   "id": "f19cd6ab",
   "metadata": {},
   "outputs": [],
   "source": [
    "import sqlite3\n",
    "import pandas as pd\n",
    "\n",
    "# Подключение к базе данных Sqlite\n",
    "conn = sqlite3.connect('./data/finance.lite')\n",
    "\n",
    "# Чтение таблицы 'transactions' в DataFrame\n",
    "v_df = pd.read_sql_query(\"SELECT * FROM trans_all\", conn)\n",
    "\n",
    "# Закрытие соединения с базой данных\n",
    "conn.close()\n",
    "\n",
    "v_df.date = pd.to_datetime(v_df.date, format='%Y-%m-%d %H:%M:%S')\n",
    "\n",
    "# Вывод первых нескольких строк DataFrame для проверки\n",
    "# v_df.iloc[9513:9518]\n",
    "# v_df.info()\n",
    "# v_df.loc[v_df.payment == 0, 'category'].unique()\n",
    "v_df.date.map(type).value_counts()\n",
    "\n",
    "\n"
   ]
  },
  {
   "cell_type": "code",
   "execution_count": null,
   "id": "5c0a23a3",
   "metadata": {},
   "outputs": [],
   "source": [
    "v_df_month_in = (v_df\n",
    "                # .loc[(v_df['payment'] == 1)]\n",
    "                .loc[(v_df['payment'] == 0) & ((v_df['category'] == 'Зарплата Д') | (v_df['category'] == 'Зарплата')) & (v_df['date'] >= '2022-01-01')]\n",
    "                # .groupby(['category', pd.Grouper(key='date', freq='M')])\n",
    "              .groupby(['category', v_df['date'].dt.to_period('M')])\n",
    "              ['amount']\n",
    "              .sum()\n",
    "              .reset_index()\n",
    "              )\n",
    "# print(v_df_month_in.values)\n",
    "# v_df_month_in.info()\n",
    "median_per_year = v_df_month_in.groupby(v_df_month_in['date'].dt.year)['amount'].median()"
   ]
  },
  {
   "cell_type": "code",
   "execution_count": null,
   "id": "4a86feff",
   "metadata": {},
   "outputs": [],
   "source": [
    "# Первичная настройка\n",
    "import matplotlib.pyplot as plt\n",
    "import seaborn as sns\n",
    "from matplotlib.ticker import FuncFormatter\n",
    "\n",
    "# Set the width and height of the figure\n",
    "plt.figure(figsize=(20,6))\n",
    "\n",
    "# Line chart showing how FIFA rankings evolved over time \n",
    "# sns.lineplot(data=v_df_month_in)\n",
    "\n",
    "ax = sns.barplot(\n",
    "    data=v_df_month_in,\n",
    "    x='date',       # ось X — месяцы\n",
    "    y='amount',     # ось Y — значения\n",
    "    # hue='category', # если хочешь разбить по категориям\n",
    ")\n",
    "\n",
    "# Подписи осей\n",
    "ax.set_xlabel(\"Год и Месяц\")    # название оси X\n",
    "ax.set_ylabel(\"Сумма, тыс.руб\") # название оси Y\n",
    "\n",
    "# Форматируем ось Y в тысячах\n",
    "ax.yaxis.set_major_formatter(FuncFormatter(lambda x, _: f'{int(x/1000)}'))\n",
    "\n",
    "# Добавляем горизонтальные линии на каждом тике Y\n",
    "yticks = ax.get_yticks()  # получаем значения делений оси Y\n",
    "for y in yticks:\n",
    "    ax.axhline(y=y, color='gray', linestyle='--', linewidth=0.5, alpha=0.5)\n",
    "\n",
    "# Подписываем значения над каждым баром\n",
    "for p in ax.patches:\n",
    "    height = p.get_height()\n",
    "    ax.text(\n",
    "        x=p.get_x() + p.get_width()/2,  # по центру бара\n",
    "        y=height + 10000,                # чуть выше столбца\n",
    "        s=f'{height:.0f}',              # текст — значение с без знаками после запятой\n",
    "        ha='center'\n",
    "    )\n",
    "\n",
    "plt.xticks(rotation=45)  # наклон меток X, чтобы было читаемо\n",
    "plt.show()\n"
   ]
  }
 ],
 "metadata": {
  "kernelspec": {
   "display_name": ".venv (3.11.9)",
   "language": "python",
   "name": "python3"
  },
  "language_info": {
   "codemirror_mode": {
    "name": "ipython",
    "version": 3
   },
   "file_extension": ".py",
   "mimetype": "text/x-python",
   "name": "python",
   "nbconvert_exporter": "python",
   "pygments_lexer": "ipython3",
   "version": "3.11.9"
  }
 },
 "nbformat": 4,
 "nbformat_minor": 5
}
