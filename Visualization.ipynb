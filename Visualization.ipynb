{
 "cells": [
  {
   "cell_type": "code",
   "execution_count": 21,
   "id": "f19cd6ab",
   "metadata": {},
   "outputs": [
    {
     "data": {
      "text/plain": [
       "array(['Зарплата Д', '#Н/Д', 'Детские', 'Домашнее', 'Развлечения',\n",
       "       'Межсчета', 'Проценты', 'Зарплата', 'Корректировка', 'Подарки',\n",
       "       'Долги', 'Кэшбэк', 'Дивиденды', 'Продажа', 'Кредит', 'Заначка',\n",
       "       'Обналичка'], dtype=object)"
      ]
     },
     "execution_count": 21,
     "metadata": {},
     "output_type": "execute_result"
    }
   ],
   "source": [
    "import sqlite3\n",
    "import pandas as pd\n",
    "\n",
    "# Подключение к базе данных Sqlite\n",
    "conn = sqlite3.connect('./data/finance.lite')\n",
    "\n",
    "# Чтение таблицы 'transactions' в DataFrame\n",
    "v_df = pd.read_sql_query(\"SELECT * FROM trans_all\", conn)\n",
    "\n",
    "# Закрытие соединения с базой данных\n",
    "conn.close()\n",
    "\n",
    "v_df.date = pd.to_datetime(v_df.date, format='%Y-%m-%d %H:%M:%S')\n",
    "\n",
    "# Вывод первых нескольких строк DataFrame для проверки\n",
    "# v_df\n",
    "# v_df.info()\n",
    "v_df.loc[v_df.payment == 0, 'category'].unique()\n",
    "\n",
    "\n"
   ]
  },
  {
   "cell_type": "code",
   "execution_count": 34,
   "id": "5c0a23a3",
   "metadata": {},
   "outputs": [
    {
     "data": {
      "text/plain": [
       "array([['#Н/Д', Period('2023-12', 'M'), 235000.0],\n",
       "       ['0', Period('2024-12', 'M'), 12099.0],\n",
       "       ['Авто', Period('2020-01', 'M'), 408155.52],\n",
       "       ...,\n",
       "       ['Электроника', Period('2023-06', 'M'), 12097.0],\n",
       "       ['Электроника', Period('2023-07', 'M'), 35715.0],\n",
       "       ['Электроника', Period('2023-08', 'M'), 73574.44]],\n",
       "      shape=(1125, 3), dtype=object)"
      ]
     },
     "execution_count": 34,
     "metadata": {},
     "output_type": "execute_result"
    }
   ],
   "source": [
    "v_df_month_in = (v_df\n",
    "                .loc[(v_df['payment'] == 1)]\n",
    "                # .loc[(v_df['payment'] == 0) & ((v_df['category'] == 'Зарплата Д') | (v_df['category'] == 'Зарплата'))]\n",
    "                # .groupby(['category', pd.Grouper(key='date', freq='M')])\n",
    "              .groupby(['category', v_df['date'].dt.to_period('M')])\n",
    "              ['amount']\n",
    "              .sum()\n",
    "              .reset_index()\n",
    "              )\n",
    "# print(v_df_month_in.values)\n",
    "v_df_month_in.values"
   ]
  },
  {
   "cell_type": "code",
   "execution_count": null,
   "id": "7c4df823",
   "metadata": {},
   "outputs": [],
   "source": []
  }
 ],
 "metadata": {
  "kernelspec": {
   "display_name": ".venv (3.11.9)",
   "language": "python",
   "name": "python3"
  },
  "language_info": {
   "codemirror_mode": {
    "name": "ipython",
    "version": 3
   },
   "file_extension": ".py",
   "mimetype": "text/x-python",
   "name": "python",
   "nbconvert_exporter": "python",
   "pygments_lexer": "ipython3",
   "version": "3.11.9"
  }
 },
 "nbformat": 4,
 "nbformat_minor": 5
}
